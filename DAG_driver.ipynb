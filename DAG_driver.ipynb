{
 "cells": [
  {
   "cell_type": "markdown",
   "id": "072d802e-32a4-457b-a153-d995c6a25091",
   "metadata": {
    "nteract": {
     "transient": {
      "deleting": false
     }
    }
   },
   "source": [
    "# Load to Table Driver\n",
    "Accepts List of table names to process using specified mode\n",
    "## Parameters\n",
    "    tables -> List of table names to process\n",
    "    mode -> specify how to process table \"overwrite\", \"append\", or \"merge\"\n",
    "    notebookPath -> Path to the notebook that will be executed for each table\n",
    "    retryCount -> Number of times to retry a failed activity\n",
    "    retryInterval -> Interval in seconds between retries\n",
    "    "
   ]
  },
  {
   "cell_type": "markdown",
   "id": "541892c3-4d90-4747-ac9f-4531ee7d57a8",
   "metadata": {
    "nteract": {
     "transient": {
      "deleting": false
     }
    }
   },
   "source": [
    "# Process List of tables\n",
    "Build List of activities to process tables\n",
    "\n",
    "Note: DAG structure is used to run multiple notebooks in parallel. Below cell constructs DAG based on list of tables\n",
    "\n",
    "Example DAG\n",
    "\n",
    "    DAG = {\n",
    "        \"activities\": [\n",
    "            {\n",
    "                \"name\": \"Activity One\", # activity name, must be unique\n",
    "                \"path\": \"Parameterized Table Load Notebook\", # notebook path\n",
    "                \"timeoutPerCellInSeconds\": 90, # max timeout for each cell, default to 90 seconds\n",
    "                \"args\": {\"tableName\": \"cust_job\", \"mode\": \"overwrite\"}, # notebook parameters\n",
    "                \"retryIntervalInSeconds\": 10,\n",
    "                \"retryIntervalInSeconds\": 10,\n",
    "                \"retry\": 1,\n",
    "            },\n",
    "            {\n",
    "                \"name\": \"Activity Two\", # activity name, must be unique\n",
    "                \"path\": \"IParameterized Table Load Notebook\", # notebook path\n",
    "                \"timeoutPerCellInSeconds\": 90, # max timeout for each cell, default to 90 seconds\n",
    "                \"args\": {\"tableName\": \"cust_joblevel\", \"mode\": \"overwrite\"}, # notebook parameters\n",
    "                \"retryIntervalInSeconds\": 10,\n",
    "                \"retry\": 1,\n",
    "                \"dependencies\": [\"NotebookSimple\"] # list of activity names that this activity depends on\n",
    "            }\n",
    "        ]\n",
    "    }\n",
    "\n"
   ]
  },
  {
   "cell_type": "code",
   "execution_count": null,
   "id": "e943a23d-b353-4c75-a724-93f66be01249",
   "metadata": {
    "microsoft": {
     "language": "python",
     "language_group": "synapse_pyspark"
    }
   },
   "outputs": [],
   "source": [
    "activities = []\n",
    "for tableName in tables : \n",
    "    activity = {\n",
    "        \"name\" : \"Load \" + tableName,\n",
    "        \"path\" : notebookPath,\n",
    "        \"timeoutPerCellInSeconds\": 7200,\n",
    "        \"args\": {\"tableName\": tableName, \"mode\": mode}, \n",
    "        \"retry\": retryCount,\n",
    "        \"retryIntervalInSeconds\": retryInterval\n",
    "    }\n",
    "    activities.append(activity)\n",
    "\n",
    "DAG = {}\n",
    "DAG = { \"activities\": activities }    \n",
    "\n",
    "# print(activities)\n",
    "# print(DAG)"
   ]
  },
  {
   "cell_type": "code",
   "execution_count": null,
   "id": "15a5b882-7b36-4d0f-8b58-c8b5fc2736b1",
   "metadata": {
    "collapsed": true,
    "jupyter": {
     "outputs_hidden": false,
     "source_hidden": false
    },
    "microsoft": {
     "language": "python",
     "language_group": "synapse_pyspark"
    },
    "nteract": {
     "transient": {
      "deleting": false
     }
    }
   },
   "outputs": [],
   "source": [
    "mssparkutils.notebook.runMultiple(DAG)"
   ]
  }
 ],
 "metadata": {
  "dependencies": {
   "environment": {
    "environmentId": "3a9fbc93-354c-44d2-a2fc-fd7753539bb7",
    "workspaceId": "65186cbf-fc94-47dc-9e7b-fb3c788bdda9"
   },
   "lakehouse": {
    "default_lakehouse": "1bb8ba9d-3063-486c-996c-674a341db5a1",
    "default_lakehouse_name": "ghratslakehouse",
    "default_lakehouse_workspace_id": "65186cbf-fc94-47dc-9e7b-fb3c788bdda9",
    "known_lakehouses": [
     {
      "id": "1bb8ba9d-3063-486c-996c-674a341db5a1"
     }
    ]
   }
  },
  "kernel_info": {
   "name": "synapse_pyspark"
  },
  "kernelspec": {
   "display_name": "Synapse PySpark",
   "language": "Python",
   "name": "synapse_pyspark"
  },
  "language_info": {
   "name": "python"
  },
  "microsoft": {
   "language": "python",
   "language_group": "synapse_pyspark",
   "ms_spell_check": {
    "ms_spell_check_language": "en"
   }
  },
  "nteract": {
   "version": "nteract-front-end@1.0.0"
  },
  "spark_compute": {
   "compute_id": "/trident/default",
   "session_options": {
    "conf": {
     "spark.synapse.nbs.session.timeout": "1200000"
    }
   }
  },
  "widgets": {}
 },
 "nbformat": 4,
 "nbformat_minor": 5
}
